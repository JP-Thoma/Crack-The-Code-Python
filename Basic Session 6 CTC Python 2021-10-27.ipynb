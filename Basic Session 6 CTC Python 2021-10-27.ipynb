{
 "cells": [
  {
   "cell_type": "markdown",
   "id": "6bed6863",
   "metadata": {},
   "source": [
    "# Basic Python CTC Session 6"
   ]
  },
  {
   "cell_type": "markdown",
   "id": "013ed32d",
   "metadata": {},
   "source": [
    "## Python Loops and Functions"
   ]
  },
  {
   "cell_type": "markdown",
   "id": "0ceb068c",
   "metadata": {},
   "source": [
    "#### A simple food loop"
   ]
  },
  {
   "cell_type": "code",
   "execution_count": 12,
   "id": "a7e0f7cb",
   "metadata": {},
   "outputs": [
    {
     "name": "stdout",
     "output_type": "stream",
     "text": [
      "Ceviche\n",
      "Lomo Saltado\n",
      "Chaufa\n"
     ]
    }
   ],
   "source": [
    "food = [\"Ceviche\",\"Lomo Saltado\",\"Chaufa\"]\n",
    "\n",
    "for item_in_list in food:\n",
    "    print (item_in_list)"
   ]
  },
  {
   "cell_type": "markdown",
   "id": "6b990b34",
   "metadata": {},
   "source": [
    "#### Student Heights"
   ]
  },
  {
   "cell_type": "code",
   "execution_count": 29,
   "id": "4694a0e0",
   "metadata": {},
   "outputs": [
    {
     "name": "stdout",
     "output_type": "stream",
     "text": [
      "Input a list of student heights: 180 170 178 166 190 184 171 174\n",
      "177\n"
     ]
    }
   ],
   "source": [
    "student_heights = input(\"Input a list of student heights: \").split()\n",
    "\n",
    "#print(student_heights)\n",
    "total_height=0\n",
    "no_students=0\n",
    "for n in student_heights:\n",
    "    n = int(n)\n",
    "    no_students += 1\n",
    "    #print(n)\n",
    "    total_height += n\n",
    "    avg_height=round(total_height/no_students)\n",
    "    \n",
    "print(avg_height)"
   ]
  },
  {
   "cell_type": "markdown",
   "id": "ccdd3147",
   "metadata": {},
   "source": [
    "#### Best practice for adding to variable "
   ]
  },
  {
   "cell_type": "code",
   "execution_count": null,
   "id": "b2edcca3",
   "metadata": {},
   "outputs": [],
   "source": [
    "no_students += 1\n",
    "no_students = no_students+1"
   ]
  },
  {
   "cell_type": "markdown",
   "id": "d47c81b1",
   "metadata": {},
   "source": [
    "#### Using input() to get user input"
   ]
  },
  {
   "cell_type": "code",
   "execution_count": 14,
   "id": "082e7bbc",
   "metadata": {},
   "outputs": [
    {
     "name": "stdout",
     "output_type": "stream",
     "text": [
      "What is your favourite number? 3\n",
      "3\n"
     ]
    }
   ],
   "source": [
    "favourite_number = int(input(\"What is your favourite number? \"))\n",
    "print(favourite_number)"
   ]
  },
  {
   "cell_type": "markdown",
   "id": "6aee68d2",
   "metadata": {},
   "source": [
    "#### Adding Even Numbers"
   ]
  },
  {
   "cell_type": "code",
   "execution_count": 17,
   "id": "8c55a486",
   "metadata": {},
   "outputs": [
    {
     "name": "stdout",
     "output_type": "stream",
     "text": [
      "2550\n"
     ]
    }
   ],
   "source": [
    "evensum=0\n",
    "for n in range(0,101,2):\n",
    "    evensum += n \n",
    "\n",
    "print(evensum)"
   ]
  },
  {
   "cell_type": "markdown",
   "id": "7322ff50",
   "metadata": {},
   "source": [
    "#### The FizzBuzz Job Interview Question"
   ]
  },
  {
   "cell_type": "code",
   "execution_count": 19,
   "id": "b36f8892",
   "metadata": {},
   "outputs": [
    {
     "name": "stdout",
     "output_type": "stream",
     "text": [
      "Please indicate number of children: 44\n",
      "1\n",
      "2\n",
      "Fizz\n",
      "4\n",
      "Buzz\n",
      "Fizz\n",
      "7\n",
      "8\n",
      "Fizz\n",
      "Buzz\n",
      "11\n",
      "Fizz\n",
      "13\n",
      "14\n",
      "FizzBuzz\n",
      "16\n",
      "17\n",
      "Fizz\n",
      "19\n",
      "Buzz\n",
      "Fizz\n",
      "22\n",
      "23\n",
      "Fizz\n",
      "Buzz\n",
      "26\n",
      "Fizz\n",
      "28\n",
      "29\n",
      "FizzBuzz\n",
      "31\n",
      "32\n",
      "Fizz\n",
      "34\n",
      "Buzz\n",
      "Fizz\n",
      "37\n",
      "38\n",
      "Fizz\n",
      "Buzz\n",
      "41\n",
      "Fizz\n",
      "43\n",
      "44\n"
     ]
    }
   ],
   "source": [
    "children = int(input(\"Please indicate number of children: \"))\n",
    "\n",
    "for child in range(1,children+1):\n",
    "    if child%3==0 and child%5==0:\n",
    "        print(\"FizzBuzz\")\n",
    "    elif child%5==0:\n",
    "        print(\"Buzz\")\n",
    "    elif child%3==0:\n",
    "        print(\"Fizz\")\n",
    "    else:\n",
    "        print(child)"
   ]
  },
  {
   "cell_type": "markdown",
   "id": "03a8862a",
   "metadata": {},
   "source": [
    "#### Function with Outputs\n",
    "\n",
    "_Best Practice: add a doc string to describe what your function is doing_"
   ]
  },
  {
   "cell_type": "code",
   "execution_count": 25,
   "id": "c0f07ab8",
   "metadata": {},
   "outputs": [
    {
     "name": "stdout",
     "output_type": "stream",
     "text": [
      "Jan Thoma\n"
     ]
    }
   ],
   "source": [
    "def format_name(f_name, l_name):\n",
    "    \"\"\"converting input names\"\"\"\n",
    "    if f_name == \"\" or l_name == \"\":\n",
    "        return \"You did not provide valid inputs.\"\n",
    "    f_name_format = f_name.title()\n",
    "    l_name_format = l_name.title()\n",
    "    return f\"{f_name_format} {l_name_format}\" #return tells computer to exit the function\n",
    "    #afterwards nothing will be executed anymore\n",
    "\n",
    "output = format_name(\"jan\", \"THOmA\")\n",
    "print(output)"
   ]
  },
  {
   "cell_type": "markdown",
   "id": "f52a80b9",
   "metadata": {},
   "source": [
    "#### The return keyword \"replaces\" the function with the result for the variable tennis_point"
   ]
  },
  {
   "cell_type": "code",
   "execution_count": 30,
   "id": "83489e6c",
   "metadata": {},
   "outputs": [
    {
     "name": "stdout",
     "output_type": "stream",
     "text": [
      "7\n"
     ]
    }
   ],
   "source": [
    "def tennis(point):\n",
    "    \"\"\"function adds one point to input\"\"\"\n",
    "    return point+1\n",
    "\n",
    "tennis_point = tennis(6)\n",
    "\n",
    "print(tennis_point)"
   ]
  },
  {
   "cell_type": "markdown",
   "id": "c9f13a02",
   "metadata": {},
   "source": [
    "#### F-Strings: very useful to combine your results stored in a variable within a string :)"
   ]
  },
  {
   "cell_type": "code",
   "execution_count": 26,
   "id": "84d9206a",
   "metadata": {},
   "outputs": [
    {
     "name": "stdout",
     "output_type": "stream",
     "text": [
      "We are 16 student today!\n"
     ]
    }
   ],
   "source": [
    "student = 16\n",
    "print(f\"We are {student} student today!\")"
   ]
  },
  {
   "cell_type": "markdown",
   "id": "dc917dd6",
   "metadata": {},
   "source": [
    "#### Password Generator: combining concepts above\n",
    "In the following exercise we want to create a password generator for which the user can specify the number of letters, symbols and numbers. We use the random module for selecting random items out of the lists letters, numbers, and symbols and to shuffle our password characters. "
   ]
  },
  {
   "cell_type": "code",
   "execution_count": 27,
   "id": "1e3eed3f",
   "metadata": {},
   "outputs": [],
   "source": [
    "import random\n",
    "\n",
    "letters = ['a', 'b', 'c', 'd', 'e', 'f', 'g', 'h', 'i', 'j', 'k', 'l', 'm', 'n', 'o', 'p', 'q', 'r', 's', 't', 'u', 'v', 'w', 'x', 'y', 'z', 'A', 'B', 'C', 'D', 'E', 'F', 'G', 'H', 'I', 'J', 'K', 'L', 'M', 'N', 'O', 'P', 'Q', 'R', 'S', 'T', 'U', 'V', 'W', 'X', 'Y', 'Z']\n",
    "numbers = ['0', '1', '2', '3', '4', '5', '6', '7', '8', '9']\n",
    "symbols = ['!', '#', '$', '%', '&', '(', ')', '*', '+']"
   ]
  },
  {
   "cell_type": "code",
   "execution_count": 28,
   "id": "207ae7a5",
   "metadata": {},
   "outputs": [
    {
     "name": "stdout",
     "output_type": "stream",
     "text": [
      "Welcome to the PyPassword Generator!\n",
      "How many letters would you like in your password?\n",
      "5\n",
      "How many symbols would you like?\n",
      "4\n",
      "How many numbers would you like?\n",
      "3\n",
      "vW(&t+9v884M)$F\n"
     ]
    }
   ],
   "source": [
    "def password_generator(letters,numbers,symbols,nr_letters,nr_symbols,nr_numbers): \n",
    "    \"\"\"This function will generate random strong passwords\"\"\"\n",
    "    password=[]\n",
    "    for l in range(0,nr_letters+1):\n",
    "        password.append(random.choice(letters))\n",
    "    \n",
    "    for s in range(0,nr_symbols+1):\n",
    "        password.append(random.choice(symbols))\n",
    "        \n",
    "    for n in range(0,nr_numbers+1):\n",
    "        password.append(random.choice(numbers))\n",
    "    \n",
    "    random.shuffle(password)    \n",
    "    password = \"\".join(password)\n",
    "    return print(password)\n",
    "\n",
    "\n",
    "print(\"Welcome to the PyPassword Generator!\")\n",
    "nr_letters= int(input(\"How many letters would you like in your password?\\n\")) \n",
    "nr_symbols = int(input(f\"How many symbols would you like?\\n\"))\n",
    "nr_numbers = int(input(f\"How many numbers would you like?\\n\"))\n",
    "      \n",
    "password_generator(letters, numbers, symbols, nr_letters, nr_symbols, nr_numbers)"
   ]
  }
 ],
 "metadata": {
  "kernelspec": {
   "display_name": "Python 3",
   "language": "python",
   "name": "python3"
  },
  "language_info": {
   "codemirror_mode": {
    "name": "ipython",
    "version": 3
   },
   "file_extension": ".py",
   "mimetype": "text/x-python",
   "name": "python",
   "nbconvert_exporter": "python",
   "pygments_lexer": "ipython3",
   "version": "3.7.10"
  }
 },
 "nbformat": 4,
 "nbformat_minor": 5
}
