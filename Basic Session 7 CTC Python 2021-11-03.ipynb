{
 "cells": [
  {
   "cell_type": "markdown",
   "id": "8da5589d",
   "metadata": {},
   "source": [
    "# Basic Python CTC Session 7"
   ]
  },
  {
   "cell_type": "markdown",
   "id": "6c41727b",
   "metadata": {},
   "source": [
    "## Python Built-in Data Types"
   ]
  },
  {
   "cell_type": "markdown",
   "id": "b84b5dbe",
   "metadata": {},
   "source": [
    "from IPython.core.interactiveshell import InteractiveShell\n",
    "InteractiveShell.ast_node_interactivity = \"all\""
   ]
  },
  {
   "cell_type": "markdown",
   "id": "73b42554",
   "metadata": {},
   "source": [
    "#### Lists: mutable, ordered, indexing, duplicate elments"
   ]
  },
  {
   "cell_type": "code",
   "execution_count": 35,
   "id": "c49ff85f",
   "metadata": {},
   "outputs": [
    {
     "name": "stdout",
     "output_type": "stream",
     "text": [
      "[2, 3, 4, 4]\n"
     ]
    }
   ],
   "source": [
    "list1= [2,3,4,4]\n",
    "print(list)"
   ]
  },
  {
   "cell_type": "code",
   "execution_count": 36,
   "id": "c1c1d728",
   "metadata": {},
   "outputs": [
    {
     "data": {
      "text/plain": [
       "2"
      ]
     },
     "execution_count": 36,
     "metadata": {},
     "output_type": "execute_result"
    }
   ],
   "source": [
    "list[0]"
   ]
  },
  {
   "cell_type": "markdown",
   "id": "663af87b",
   "metadata": {},
   "source": [
    "#### Tuples"
   ]
  },
  {
   "cell_type": "code",
   "execution_count": null,
   "id": "5a7497f9",
   "metadata": {},
   "outputs": [],
   "source": []
  },
  {
   "cell_type": "markdown",
   "id": "09abded8",
   "metadata": {},
   "source": [
    "#### Sets"
   ]
  },
  {
   "cell_type": "code",
   "execution_count": null,
   "id": "f891f6b1",
   "metadata": {},
   "outputs": [],
   "source": [
    "newset = "
   ]
  },
  {
   "cell_type": "markdown",
   "id": "eab3b386",
   "metadata": {},
   "source": [
    "#### Dictionaries"
   ]
  },
  {
   "cell_type": "code",
   "execution_count": null,
   "id": "5e1ce78f",
   "metadata": {},
   "outputs": [],
   "source": []
  },
  {
   "cell_type": "markdown",
   "id": "733aa2b5",
   "metadata": {},
   "source": [
    "#### List vs Set"
   ]
  },
  {
   "cell_type": "code",
   "execution_count": 37,
   "id": "2be79a73",
   "metadata": {},
   "outputs": [
    {
     "ename": "TypeError",
     "evalue": "'list' object is not callable",
     "output_type": "error",
     "traceback": [
      "\u001b[1;31m---------------------------------------------------------------------------\u001b[0m",
      "\u001b[1;31mTypeError\u001b[0m                                 Traceback (most recent call last)",
      "\u001b[1;32m<ipython-input-37-d85777ae86fe>\u001b[0m in \u001b[0;36m<module>\u001b[1;34m\u001b[0m\n\u001b[0;32m      1\u001b[0m \u001b[1;31m#Duplicates\u001b[0m\u001b[1;33m\u001b[0m\u001b[1;33m\u001b[0m\u001b[1;33m\u001b[0m\u001b[0m\n\u001b[0;32m      2\u001b[0m \u001b[0mtext\u001b[0m \u001b[1;33m=\u001b[0m \u001b[1;34m\"Hello World!\"\u001b[0m\u001b[1;33m\u001b[0m\u001b[1;33m\u001b[0m\u001b[0m\n\u001b[1;32m----> 3\u001b[1;33m \u001b[0mprint\u001b[0m\u001b[1;33m(\u001b[0m\u001b[0mlist\u001b[0m\u001b[1;33m(\u001b[0m\u001b[0mtext\u001b[0m\u001b[1;33m)\u001b[0m\u001b[1;33m)\u001b[0m\u001b[1;33m\u001b[0m\u001b[1;33m\u001b[0m\u001b[0m\n\u001b[0m\u001b[0;32m      4\u001b[0m \u001b[1;33m\u001b[0m\u001b[0m\n\u001b[0;32m      5\u001b[0m \u001b[0mprint\u001b[0m\u001b[1;33m(\u001b[0m\u001b[0mset\u001b[0m\u001b[1;33m(\u001b[0m\u001b[0mtext\u001b[0m\u001b[1;33m)\u001b[0m\u001b[1;33m)\u001b[0m\u001b[1;33m\u001b[0m\u001b[1;33m\u001b[0m\u001b[0m\n",
      "\u001b[1;31mTypeError\u001b[0m: 'list' object is not callable"
     ]
    }
   ],
   "source": [
    "#Duplicates\n",
    "text = \"Hello World!\"\n",
    "print(list(text))\n",
    "\n",
    "print(set(text))"
   ]
  },
  {
   "cell_type": "code",
   "execution_count": 10,
   "id": "c7db148e",
   "metadata": {},
   "outputs": [
    {
     "name": "stdout",
     "output_type": "stream",
     "text": [
      "['H', 'e']\n"
     ]
    },
    {
     "ename": "TypeError",
     "evalue": "'set' object is not subscriptable",
     "output_type": "error",
     "traceback": [
      "\u001b[1;31m---------------------------------------------------------------------------\u001b[0m",
      "\u001b[1;31mTypeError\u001b[0m                                 Traceback (most recent call last)",
      "\u001b[1;32m<ipython-input-10-4db9e60d334c>\u001b[0m in \u001b[0;36m<module>\u001b[1;34m\u001b[0m\n\u001b[0;32m      5\u001b[0m \u001b[1;33m\u001b[0m\u001b[0m\n\u001b[0;32m      6\u001b[0m \u001b[0mset_a\u001b[0m \u001b[1;33m=\u001b[0m \u001b[0mset\u001b[0m\u001b[1;33m(\u001b[0m\u001b[0mtext\u001b[0m\u001b[1;33m)\u001b[0m\u001b[1;33m\u001b[0m\u001b[1;33m\u001b[0m\u001b[0m\n\u001b[1;32m----> 7\u001b[1;33m \u001b[0mprint\u001b[0m\u001b[1;33m(\u001b[0m\u001b[0mset_a\u001b[0m\u001b[1;33m[\u001b[0m\u001b[1;33m:\u001b[0m\u001b[1;36m2\u001b[0m\u001b[1;33m]\u001b[0m\u001b[1;33m)\u001b[0m\u001b[1;33m\u001b[0m\u001b[1;33m\u001b[0m\u001b[0m\n\u001b[0m",
      "\u001b[1;31mTypeError\u001b[0m: 'set' object is not subscriptable"
     ]
    }
   ],
   "source": [
    "#Indexing\n",
    "text = \"Hello World!\"\n",
    "list_a = list(text)\n",
    "print(list_a[:2])\n",
    "\n",
    "set_a = set(text)\n",
    "print(set_a[:2])"
   ]
  },
  {
   "cell_type": "markdown",
   "id": "b911e028",
   "metadata": {},
   "source": [
    "#### Lists vs tuples"
   ]
  },
  {
   "cell_type": "code",
   "execution_count": 8,
   "id": "8bdec0df",
   "metadata": {},
   "outputs": [
    {
     "name": "stdout",
     "output_type": "stream",
     "text": [
      "[1, 2, 3, 4, 5]\n"
     ]
    },
    {
     "ename": "AttributeError",
     "evalue": "'tuple' object has no attribute 'append'",
     "output_type": "error",
     "traceback": [
      "\u001b[1;31m---------------------------------------------------------------------------\u001b[0m",
      "\u001b[1;31mAttributeError\u001b[0m                            Traceback (most recent call last)",
      "\u001b[1;32m<ipython-input-8-859fa1935c7f>\u001b[0m in \u001b[0;36m<module>\u001b[1;34m\u001b[0m\n\u001b[0;32m      5\u001b[0m \u001b[1;33m\u001b[0m\u001b[0m\n\u001b[0;32m      6\u001b[0m \u001b[0mtuple_a\u001b[0m \u001b[1;33m=\u001b[0m \u001b[1;33m(\u001b[0m\u001b[1;36m1\u001b[0m\u001b[1;33m,\u001b[0m\u001b[1;36m2\u001b[0m\u001b[1;33m,\u001b[0m\u001b[1;36m3\u001b[0m\u001b[1;33m,\u001b[0m\u001b[1;36m4\u001b[0m\u001b[1;33m)\u001b[0m\u001b[1;33m\u001b[0m\u001b[1;33m\u001b[0m\u001b[0m\n\u001b[1;32m----> 7\u001b[1;33m \u001b[0mtuple_a\u001b[0m\u001b[1;33m.\u001b[0m\u001b[0mappend\u001b[0m\u001b[1;33m(\u001b[0m\u001b[1;36m5\u001b[0m\u001b[1;33m)\u001b[0m\u001b[1;33m\u001b[0m\u001b[1;33m\u001b[0m\u001b[0m\n\u001b[0m",
      "\u001b[1;31mAttributeError\u001b[0m: 'tuple' object has no attribute 'append'"
     ]
    }
   ],
   "source": [
    "#Mutability\n",
    "list_a = [1,2,3,4]\n",
    "list_a.append(5)\n",
    "print(list_a)\n",
    "\n",
    "tuple_a = (1,2,3,4)\n",
    "tuple_a.append(5)"
   ]
  },
  {
   "cell_type": "code",
   "execution_count": 39,
   "id": "873559b9",
   "metadata": {},
   "outputs": [
    {
     "name": "stdout",
     "output_type": "stream",
     "text": [
      "([99, 3], 'a', 'b', 8)\n"
     ]
    }
   ],
   "source": [
    "#tuples are immutable but can contain immutable elements\n",
    "tuple_a = ([1,3], 'a', 'b', 8)\n",
    "tuple_a[0][0] = 99\n",
    "print(tuple_a)"
   ]
  },
  {
   "cell_type": "markdown",
   "id": "41c10640",
   "metadata": {},
   "source": [
    "#### Dictionaries: ordered changeable and no duplicates"
   ]
  },
  {
   "cell_type": "code",
   "execution_count": 25,
   "id": "7cee9086",
   "metadata": {},
   "outputs": [
    {
     "name": "stdout",
     "output_type": "stream",
     "text": [
      "{'Harry': 'Exceeds Expectations', 'Ron': 'Acceptable', 'Hermione': 'Outstanding', 'Draco': 'Acceptable', 'Neville': 'Fail'}\n"
     ]
    }
   ],
   "source": [
    "##Grading Program\n",
    "\n",
    "student_scores = {\n",
    "    \"Harry\": 81,\n",
    "    \"Ron\": 78,\n",
    "    \"Hermione\":99,\n",
    "    \"Draco\":74,\n",
    "    \"Neville\":70\n",
    "    }\n",
    "\n",
    "for student in student_scores:\n",
    "    grade = student_scores[student]\n",
    "    if grade > 90:\n",
    "        grade = \"Outstanding\"\n",
    "    elif grade > 80:\n",
    "        grade = \"Exceeds Expectations\"\n",
    "    elif grade > 70:\n",
    "        grade = \"Acceptable\"\n",
    "    else:\n",
    "        grade = \"Fail\"\n",
    "    student_scores[student] = grade\n",
    "    \n",
    "print(student_scores)"
   ]
  },
  {
   "cell_type": "code",
   "execution_count": 26,
   "id": "041fb679",
   "metadata": {},
   "outputs": [
    {
     "name": "stdout",
     "output_type": "stream",
     "text": [
      "[{'country': 'France', 'visits': 12, 'cities': ['Paris', 'Lyon', 'Brest']}, {'country': 'Germany', 'visits': 4, 'cities': ['Berlin', 'Hamburg', 'Stuttgart']}, {'country': 'Italy', 'visits': 8, 'cities': ['Milano', 'Como', 'Marotta', 'Venezia']}]\n"
     ]
    }
   ],
   "source": [
    "##Travel Log\n",
    "\n",
    "travel_log = [\n",
    "    {\n",
    "    \"country\":\"France\",\n",
    "    \"visits\":12,\n",
    "    \"cities\":[\"Paris\",\"Lyon\",\"Brest\"]\n",
    "    },\n",
    "    {\n",
    "     \"country\":\"Germany\",\n",
    "     \"visits\":4,\n",
    "     \"cities\":[\"Berlin\",\"Hamburg\",\"Stuttgart\"]\n",
    "     }\n",
    "]\n",
    "\n",
    "def add_new_country(country_visited,times_visited,cities_visited):\n",
    "    \"\"\"adds a new country to existing dictionary\"\"\"\n",
    "    new_country = {}\n",
    "    new_country[\"country\"] = country_visited\n",
    "    new_country[\"visits\"] = times_visited\n",
    "    new_country[\"cities\"] = cities_visited\n",
    "    travel_log.append(new_country)\n",
    "\n",
    "\n",
    "add_new_country(\"Italy\", 8,[\"Milano\",\"Como\",\"Marotta\",\"Venezia\"])\n",
    "\n",
    "print(travel_log)"
   ]
  },
  {
   "cell_type": "code",
   "execution_count": 53,
   "id": "8532ad2d",
   "metadata": {},
   "outputs": [
    {
     "ename": "AttributeError",
     "evalue": "'list' object has no attribute 'keys'",
     "output_type": "error",
     "traceback": [
      "\u001b[1;31m---------------------------------------------------------------------------\u001b[0m",
      "\u001b[1;31mAttributeError\u001b[0m                            Traceback (most recent call last)",
      "\u001b[1;32m<ipython-input-53-40aed4090c84>\u001b[0m in \u001b[0;36m<module>\u001b[1;34m\u001b[0m\n\u001b[1;32m----> 1\u001b[1;33m \u001b[1;32mfor\u001b[0m \u001b[0mcountry\u001b[0m \u001b[1;32min\u001b[0m \u001b[0mtravel_log\u001b[0m\u001b[1;33m.\u001b[0m\u001b[0mkeys\u001b[0m\u001b[1;33m(\u001b[0m\u001b[1;33m)\u001b[0m\u001b[1;33m:\u001b[0m\u001b[1;33m\u001b[0m\u001b[1;33m\u001b[0m\u001b[0m\n\u001b[0m\u001b[0;32m      2\u001b[0m     \u001b[0mprint\u001b[0m\u001b[1;33m(\u001b[0m\u001b[0mcountry\u001b[0m\u001b[1;33m)\u001b[0m\u001b[1;33m\u001b[0m\u001b[1;33m\u001b[0m\u001b[0m\n",
      "\u001b[1;31mAttributeError\u001b[0m: 'list' object has no attribute 'keys'"
     ]
    }
   ],
   "source": [
    "for country in travel_log.keys():\n",
    "    print(country)\n",
    "    \n",
    "    #DO THISSSSS"
   ]
  },
  {
   "cell_type": "markdown",
   "id": "57e11ef6",
   "metadata": {},
   "source": [
    "## Scope: calculator"
   ]
  },
  {
   "cell_type": "markdown",
   "id": "f09a5d0d",
   "metadata": {},
   "source": [
    "We want to create a basic calculator that takes three inputs:\n",
    "- First number\n",
    "- Second number\n",
    "- type of operation\n",
    "\n",
    "Moreover, after a calculation we will ask the users whether they want to continue with the same calculation or start with a new one."
   ]
  },
  {
   "cell_type": "code",
   "execution_count": 46,
   "id": "0898eb86",
   "metadata": {},
   "outputs": [],
   "source": [
    "jan = \"IE Big Data Club\"\n"
   ]
  },
  {
   "cell_type": "code",
   "execution_count": null,
   "id": "71a9a9f3",
   "metadata": {},
   "outputs": [],
   "source": [
    "#Scope\n",
    "\n",
    "n1 = input(int((\"Tell me the first number: \"))\n",
    "\n",
    "type(n1)"
   ]
  },
  {
   "cell_type": "code",
   "execution_count": 16,
   "id": "210bd990",
   "metadata": {},
   "outputs": [],
   "source": [
    "def add(n1,n2):\n",
    "    \"\"\"adds two numbers\"\"\"\n",
    "    return n1 + n2"
   ]
  },
  {
   "cell_type": "code",
   "execution_count": 17,
   "id": "1bd493e2",
   "metadata": {},
   "outputs": [],
   "source": [
    "def sub(n1,n2):\n",
    "    \"\"\"substracts two numbers\"\"\"\n",
    "    return n1 - n2"
   ]
  },
  {
   "cell_type": "code",
   "execution_count": 18,
   "id": "57d5e278",
   "metadata": {},
   "outputs": [],
   "source": [
    "def mul(n1,n2):\n",
    "    \"\"\"multiplies two numbers\"\"\"\n",
    "    return n1 * n2"
   ]
  },
  {
   "cell_type": "code",
   "execution_count": 19,
   "id": "cae0af1f",
   "metadata": {},
   "outputs": [],
   "source": [
    "def div(n1,n2):\n",
    "    \"\"\"divides two numbers\"\"\"\n",
    "    return n1 / n2"
   ]
  },
  {
   "cell_type": "code",
   "execution_count": 21,
   "id": "dc8f80af",
   "metadata": {},
   "outputs": [],
   "source": [
    "operations = {\"+\":add,\"-\":sub,\"*\":mul,\"/\":div}"
   ]
  },
  {
   "cell_type": "code",
   "execution_count": 22,
   "id": "0a6ca7a3",
   "metadata": {},
   "outputs": [],
   "source": [
    "def calculator():\n",
    "    calc_continue = True\n",
    "    num1 = float(input(\"What is the first number: \"))\n",
    "    while calc_continue is True:\n",
    "        \n",
    "        num2 = float(input(\"What is the next number: \"))\n",
    "        \n",
    "        for operator in operations: #with .items() you can get complete dictionary\n",
    "            print(operator) \n",
    "        \n",
    "        operations_symbol = input(\"Pick an operation from the line above: \")\n",
    "        \n",
    "        calculation_function = operations[operations_symbol]\n",
    "        answer = calculation_function(num1, num2)\n",
    "        \n",
    "        print(f\"{num1} {operations_symbol} {num2} = {answer}\")\n",
    "        \n",
    "        if input(f\"Type 'y' to continue calculating with {answer}, or type 'n' to start a new calculation: \")==\"y\":\n",
    "            num1 = answer\n",
    "        else:\n",
    "            calc_continue = False\n",
    "            calculator() #recursion"
   ]
  },
  {
   "cell_type": "code",
   "execution_count": 55,
   "id": "d9ef7558",
   "metadata": {},
   "outputs": [
    {
     "name": "stdout",
     "output_type": "stream",
     "text": [
      "What is the first number: 4\n",
      "What is the next number: 8\n",
      "+\n",
      "-\n",
      "*\n",
      "/\n",
      "Pick an operation from the line above: +\n",
      "4.0 + 8.0 = 12.0\n"
     ]
    },
    {
     "ename": "KeyboardInterrupt",
     "evalue": "Interrupted by user",
     "output_type": "error",
     "traceback": [
      "\u001b[1;31m---------------------------------------------------------------------------\u001b[0m",
      "\u001b[1;31mKeyboardInterrupt\u001b[0m                         Traceback (most recent call last)",
      "\u001b[1;32m<ipython-input-55-0c616def4ff3>\u001b[0m in \u001b[0;36m<module>\u001b[1;34m\u001b[0m\n\u001b[1;32m----> 1\u001b[1;33m \u001b[0mcalculator\u001b[0m\u001b[1;33m(\u001b[0m\u001b[1;33m)\u001b[0m\u001b[1;33m\u001b[0m\u001b[1;33m\u001b[0m\u001b[0m\n\u001b[0m",
      "\u001b[1;32m<ipython-input-22-7b4ca0a7a5d2>\u001b[0m in \u001b[0;36mcalculator\u001b[1;34m()\u001b[0m\n\u001b[0;32m     16\u001b[0m         \u001b[0mprint\u001b[0m\u001b[1;33m(\u001b[0m\u001b[1;34mf\"{num1} {operations_symbol} {num2} = {answer}\"\u001b[0m\u001b[1;33m)\u001b[0m\u001b[1;33m\u001b[0m\u001b[1;33m\u001b[0m\u001b[0m\n\u001b[0;32m     17\u001b[0m \u001b[1;33m\u001b[0m\u001b[0m\n\u001b[1;32m---> 18\u001b[1;33m         \u001b[1;32mif\u001b[0m \u001b[0minput\u001b[0m\u001b[1;33m(\u001b[0m\u001b[1;34mf\"Type 'y' to continue calculating with {answer}, or type 'n' to start a new calculation: \"\u001b[0m\u001b[1;33m)\u001b[0m\u001b[1;33m==\u001b[0m\u001b[1;34m\"y\"\u001b[0m\u001b[1;33m:\u001b[0m\u001b[1;33m\u001b[0m\u001b[1;33m\u001b[0m\u001b[0m\n\u001b[0m\u001b[0;32m     19\u001b[0m             \u001b[0mnum1\u001b[0m \u001b[1;33m=\u001b[0m \u001b[0manswer\u001b[0m\u001b[1;33m\u001b[0m\u001b[1;33m\u001b[0m\u001b[0m\n\u001b[0;32m     20\u001b[0m         \u001b[1;32melse\u001b[0m\u001b[1;33m:\u001b[0m\u001b[1;33m\u001b[0m\u001b[1;33m\u001b[0m\u001b[0m\n",
      "\u001b[1;32m~\\Anaconda3\\lib\\site-packages\\ipykernel\\kernelbase.py\u001b[0m in \u001b[0;36mraw_input\u001b[1;34m(self, prompt)\u001b[0m\n\u001b[0;32m    861\u001b[0m             \u001b[0mself\u001b[0m\u001b[1;33m.\u001b[0m\u001b[0m_parent_ident\u001b[0m\u001b[1;33m,\u001b[0m\u001b[1;33m\u001b[0m\u001b[1;33m\u001b[0m\u001b[0m\n\u001b[0;32m    862\u001b[0m             \u001b[0mself\u001b[0m\u001b[1;33m.\u001b[0m\u001b[0m_parent_header\u001b[0m\u001b[1;33m,\u001b[0m\u001b[1;33m\u001b[0m\u001b[1;33m\u001b[0m\u001b[0m\n\u001b[1;32m--> 863\u001b[1;33m             \u001b[0mpassword\u001b[0m\u001b[1;33m=\u001b[0m\u001b[1;32mFalse\u001b[0m\u001b[1;33m,\u001b[0m\u001b[1;33m\u001b[0m\u001b[1;33m\u001b[0m\u001b[0m\n\u001b[0m\u001b[0;32m    864\u001b[0m         )\n\u001b[0;32m    865\u001b[0m \u001b[1;33m\u001b[0m\u001b[0m\n",
      "\u001b[1;32m~\\Anaconda3\\lib\\site-packages\\ipykernel\\kernelbase.py\u001b[0m in \u001b[0;36m_input_request\u001b[1;34m(self, prompt, ident, parent, password)\u001b[0m\n\u001b[0;32m    902\u001b[0m             \u001b[1;32mexcept\u001b[0m \u001b[0mKeyboardInterrupt\u001b[0m\u001b[1;33m:\u001b[0m\u001b[1;33m\u001b[0m\u001b[1;33m\u001b[0m\u001b[0m\n\u001b[0;32m    903\u001b[0m                 \u001b[1;31m# re-raise KeyboardInterrupt, to truncate traceback\u001b[0m\u001b[1;33m\u001b[0m\u001b[1;33m\u001b[0m\u001b[1;33m\u001b[0m\u001b[0m\n\u001b[1;32m--> 904\u001b[1;33m                 \u001b[1;32mraise\u001b[0m \u001b[0mKeyboardInterrupt\u001b[0m\u001b[1;33m(\u001b[0m\u001b[1;34m\"Interrupted by user\"\u001b[0m\u001b[1;33m)\u001b[0m \u001b[1;32mfrom\u001b[0m \u001b[1;32mNone\u001b[0m\u001b[1;33m\u001b[0m\u001b[1;33m\u001b[0m\u001b[0m\n\u001b[0m\u001b[0;32m    905\u001b[0m             \u001b[1;32mexcept\u001b[0m \u001b[0mException\u001b[0m \u001b[1;32mas\u001b[0m \u001b[0me\u001b[0m\u001b[1;33m:\u001b[0m\u001b[1;33m\u001b[0m\u001b[1;33m\u001b[0m\u001b[0m\n\u001b[0;32m    906\u001b[0m                 \u001b[0mself\u001b[0m\u001b[1;33m.\u001b[0m\u001b[0mlog\u001b[0m\u001b[1;33m.\u001b[0m\u001b[0mwarning\u001b[0m\u001b[1;33m(\u001b[0m\u001b[1;34m\"Invalid Message:\"\u001b[0m\u001b[1;33m,\u001b[0m \u001b[0mexc_info\u001b[0m\u001b[1;33m=\u001b[0m\u001b[1;32mTrue\u001b[0m\u001b[1;33m)\u001b[0m\u001b[1;33m\u001b[0m\u001b[1;33m\u001b[0m\u001b[0m\n",
      "\u001b[1;31mKeyboardInterrupt\u001b[0m: Interrupted by user"
     ]
    }
   ],
   "source": [
    "calculator()"
   ]
  },
  {
   "cell_type": "code",
   "execution_count": null,
   "id": "db4db312",
   "metadata": {},
   "outputs": [],
   "source": []
  },
  {
   "cell_type": "code",
   "execution_count": null,
   "id": "c5548910",
   "metadata": {},
   "outputs": [],
   "source": []
  },
  {
   "cell_type": "code",
   "execution_count": null,
   "id": "39e393c1",
   "metadata": {},
   "outputs": [],
   "source": []
  },
  {
   "cell_type": "code",
   "execution_count": null,
   "id": "59c2f07b",
   "metadata": {},
   "outputs": [],
   "source": []
  },
  {
   "cell_type": "code",
   "execution_count": null,
   "id": "e5679407",
   "metadata": {},
   "outputs": [],
   "source": []
  },
  {
   "cell_type": "code",
   "execution_count": null,
   "id": "2f23752c",
   "metadata": {},
   "outputs": [],
   "source": []
  },
  {
   "cell_type": "code",
   "execution_count": null,
   "id": "9c7ff5af",
   "metadata": {},
   "outputs": [],
   "source": []
  }
 ],
 "metadata": {
  "kernelspec": {
   "display_name": "Python 3",
   "language": "python",
   "name": "python3"
  }
 },
 "nbformat": 4,
 "nbformat_minor": 5
}
