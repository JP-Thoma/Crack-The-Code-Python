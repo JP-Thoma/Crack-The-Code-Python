{
 "cells": [
  {
   "cell_type": "markdown",
   "id": "770c7b81",
   "metadata": {},
   "source": [
    "# Basic Python CTC Session 8"
   ]
  },
  {
   "cell_type": "markdown",
   "id": "a022d4d5",
   "metadata": {},
   "source": [
    "## Recap Python Dictionaires"
   ]
  },
  {
   "cell_type": "code",
   "execution_count": 28,
   "id": "8bf0a65c",
   "metadata": {},
   "outputs": [
    {
     "name": "stdout",
     "output_type": "stream",
     "text": [
      "[{'country': 'France', 'visits': 12, 'cities': ['Paris', 'Lyon', 'Brest']}, {'country': 'Germany', 'visits': 4, 'cities': ['Berlin', 'Hamburg', 'Stuttgart']}, {'country': 'Italy', 'visits': 8, 'cities': ['Milano', 'Como', 'Marotta', 'Venezia']}]\n"
     ]
    }
   ],
   "source": [
    "##Travel Log\n",
    "\n",
    "travel_log = [\n",
    "    {\n",
    "    \"country\":\"France\",\n",
    "    \"visits\":12,\n",
    "    \"cities\":[\"Paris\",\"Lyon\",\"Brest\"]\n",
    "    },\n",
    "    {\n",
    "     \"country\":\"Germany\",\n",
    "     \"visits\":4,\n",
    "     \"cities\":[\"Berlin\",\"Hamburg\",\"Stuttgart\"]\n",
    "     }\n",
    "]\n",
    "\n",
    "def add_new_country(country_visited,times_visited,cities_visited):\n",
    "    \"\"\"adds a new country to existing dictionary\"\"\"\n",
    "    new_country = {}\n",
    "    new_country[\"country\"] = country_visited\n",
    "    new_country[\"visits\"] = times_visited\n",
    "    new_country[\"cities\"] = cities_visited\n",
    "    travel_log.append(new_country)\n",
    "\n",
    "\n",
    "add_new_country(\"Italy\", 8,[\"Milano\",\"Como\",\"Marotta\",\"Venezia\"])\n",
    "\n",
    "print(travel_log)"
   ]
  },
  {
   "cell_type": "code",
   "execution_count": 47,
   "id": "f232ec1f",
   "metadata": {},
   "outputs": [
    {
     "data": {
      "text/plain": [
       "{'country': 'France', 'visits': 12, 'cities': ['Paris', 'Lyon', 'Brest']}"
      ]
     },
     "execution_count": 47,
     "metadata": {},
     "output_type": "execute_result"
    }
   ],
   "source": [
    "travel_log[0]"
   ]
  },
  {
   "cell_type": "code",
   "execution_count": 61,
   "id": "dde3ee4a",
   "metadata": {},
   "outputs": [
    {
     "data": {
      "text/plain": [
       "{'country': 'France', 'visits': 12, 'cities': ['Paris', 'Lyon', 'Brest']}"
      ]
     },
     "execution_count": 61,
     "metadata": {},
     "output_type": "execute_result"
    }
   ],
   "source": [
    "list(travel_log)[0]"
   ]
  },
  {
   "cell_type": "code",
   "execution_count": 60,
   "id": "9d056c62",
   "metadata": {},
   "outputs": [
    {
     "data": {
      "text/plain": [
       "['country', 'visits', 'cities']"
      ]
     },
     "execution_count": 60,
     "metadata": {},
     "output_type": "execute_result"
    }
   ],
   "source": [
    "list(travel_log[0])"
   ]
  },
  {
   "cell_type": "code",
   "execution_count": 65,
   "id": "89c7583f",
   "metadata": {},
   "outputs": [
    {
     "data": {
      "text/plain": [
       "dict_items([('country', 'Germany'), ('visits', 4), ('cities', ['Berlin', 'Hamburg', 'Stuttgart'])])"
      ]
     },
     "execution_count": 65,
     "metadata": {},
     "output_type": "execute_result"
    }
   ],
   "source": [
    "travel_log[1].items()"
   ]
  },
  {
   "cell_type": "code",
   "execution_count": 72,
   "id": "8cb8147e",
   "metadata": {},
   "outputs": [
    {
     "data": {
      "text/plain": [
       "'France'"
      ]
     },
     "execution_count": 72,
     "metadata": {},
     "output_type": "execute_result"
    }
   ],
   "source": [
    "list(travel_log[0].values())[0]"
   ]
  },
  {
   "cell_type": "code",
   "execution_count": 29,
   "id": "614daa69",
   "metadata": {},
   "outputs": [
    {
     "name": "stdout",
     "output_type": "stream",
     "text": [
      "France\n",
      "Germany\n",
      "Italy\n"
     ]
    }
   ],
   "source": [
    "for country in travel_log:\n",
    "    print(travel_log[travel_log.index(country)][\"country\"])"
   ]
  },
  {
   "cell_type": "code",
   "execution_count": 30,
   "id": "56f82809",
   "metadata": {},
   "outputs": [
    {
     "name": "stdout",
     "output_type": "stream",
     "text": [
      "Paris\n",
      "Berlin\n",
      "Milano\n"
     ]
    }
   ],
   "source": [
    "for country in travel_log:\n",
    "    print(travel_log[travel_log.index(country)][\"cities\"][0])"
   ]
  },
  {
   "cell_type": "code",
   "execution_count": 31,
   "id": "a417dd5c",
   "metadata": {},
   "outputs": [
    {
     "name": "stdout",
     "output_type": "stream",
     "text": [
      "France 12\n",
      "Germany 4\n",
      "Italy 8\n"
     ]
    }
   ],
   "source": [
    "for country in travel_log:\n",
    "    print(travel_log[travel_log.index(country)][\"country\"],travel_log[travel_log.index(country)][\"visits\"])"
   ]
  },
  {
   "cell_type": "code",
   "execution_count": 75,
   "id": "b29df93e",
   "metadata": {},
   "outputs": [
    {
     "name": "stdout",
     "output_type": "stream",
     "text": [
      "dict_items([('brand', 'Ford'), ('model', 'Mustang'), ('year', 1964)])\n",
      "dict_keys(['brand', 'model', 'year'])\n",
      "dict_values(['Ford', 'Mustang', 1964])\n",
      "[('brand', 'Ford'), ('model', 'Mustang'), ('year', 1964)]\n"
     ]
    }
   ],
   "source": [
    "#items(), keys(), values()\n",
    "car = {\n",
    "  \"brand\": \"Ford\",\n",
    "  \"model\": \"Mustang\",\n",
    "  \"year\": 1964\n",
    "}\n",
    "\n",
    "x = car.items()\n",
    "y = car.keys()\n",
    "z = car.values()\n",
    "\n",
    "print(x)\n",
    "print(y)\n",
    "print(z)\n",
    "\n",
    "print(list(x))"
   ]
  },
  {
   "cell_type": "code",
   "execution_count": null,
   "id": "f5069ec3",
   "metadata": {},
   "outputs": [],
   "source": []
  },
  {
   "cell_type": "code",
   "execution_count": null,
   "id": "2759b72f",
   "metadata": {},
   "outputs": [],
   "source": []
  },
  {
   "cell_type": "markdown",
   "id": "d78abba8",
   "metadata": {},
   "source": [
    "## Scope: Calculator"
   ]
  },
  {
   "cell_type": "markdown",
   "id": "e71f551f",
   "metadata": {},
   "source": [
    "We want to create a basic calculator that takes three inputs:\n",
    "- First number\n",
    "- Second number\n",
    "- type of operation\n",
    "\n",
    "Moreover, after a calculation we will ask the users whether they want to continue with the same calculation or start with a new one."
   ]
  },
  {
   "cell_type": "code",
   "execution_count": 32,
   "id": "fecb79cd",
   "metadata": {},
   "outputs": [],
   "source": [
    "def add(n1,n2):\n",
    "    \"\"\"adds two numbers\"\"\"\n",
    "    return n1 + n2"
   ]
  },
  {
   "cell_type": "code",
   "execution_count": 33,
   "id": "70c25fa1",
   "metadata": {},
   "outputs": [],
   "source": [
    "def sub(n1,n2):\n",
    "    \"\"\"substracts two numbers\"\"\"\n",
    "    return n1 - n2"
   ]
  },
  {
   "cell_type": "code",
   "execution_count": 34,
   "id": "f515ddf9",
   "metadata": {},
   "outputs": [],
   "source": [
    "def mul(n1,n2):\n",
    "    \"\"\"multiplies two numbers\"\"\"\n",
    "    return n1 * n2"
   ]
  },
  {
   "cell_type": "code",
   "execution_count": 35,
   "id": "9f126a7a",
   "metadata": {},
   "outputs": [],
   "source": [
    "def div(n1,n2):\n",
    "    \"\"\"divides two numbers\"\"\"\n",
    "    return n1 / n2"
   ]
  },
  {
   "cell_type": "code",
   "execution_count": 36,
   "id": "981a5620",
   "metadata": {},
   "outputs": [],
   "source": [
    "operations = {\"+\":add,\"-\":sub,\"*\":mul,\"/\":div}"
   ]
  },
  {
   "cell_type": "code",
   "execution_count": 37,
   "id": "6d05e2b1",
   "metadata": {},
   "outputs": [],
   "source": [
    "def calculator():\n",
    "    calc_continue = True\n",
    "    num1 = float(input(\"What is the first number: \"))\n",
    "    while calc_continue is True:\n",
    "        \n",
    "        num2 = float(input(\"What is the next number: \"))\n",
    "        \n",
    "        for operator in operations: #with .items() you can get complete dictionary\n",
    "            print(operator) \n",
    "        \n",
    "        operations_symbol = input(\"Pick an operation from the line above: \")\n",
    "        \n",
    "        calculation_function = operations[operations_symbol]\n",
    "        answer = calculation_function(num1, num2)\n",
    "        \n",
    "        print(f\"{num1} {operations_symbol} {num2} = {answer}\")\n",
    "        \n",
    "        if input(f\"Type 'y' to continue calculating with {answer}, or type 'n' to start a new calculation: \")==\"y\":\n",
    "            num1 = answer\n",
    "        else:\n",
    "            calc_continue = False\n",
    "            calculator() #recursion"
   ]
  },
  {
   "cell_type": "code",
   "execution_count": 38,
   "id": "d707056c",
   "metadata": {},
   "outputs": [
    {
     "name": "stdout",
     "output_type": "stream",
     "text": [
      "What is the first number: 2\n",
      "What is the next number: 3\n",
      "+\n",
      "-\n",
      "*\n",
      "/\n",
      "Pick an operation from the line above: +\n",
      "2.0 + 3.0 = 5.0\n",
      "Type 'y' to continue calculating with 5.0, or type 'n' to start a new calculation: n\n",
      "What is the first number: 3\n",
      "What is the next number: \n"
     ]
    },
    {
     "ename": "ValueError",
     "evalue": "could not convert string to float: ",
     "output_type": "error",
     "traceback": [
      "\u001b[1;31m---------------------------------------------------------------------------\u001b[0m",
      "\u001b[1;31mValueError\u001b[0m                                Traceback (most recent call last)",
      "\u001b[1;32m<ipython-input-38-0c616def4ff3>\u001b[0m in \u001b[0;36m<module>\u001b[1;34m\u001b[0m\n\u001b[1;32m----> 1\u001b[1;33m \u001b[0mcalculator\u001b[0m\u001b[1;33m(\u001b[0m\u001b[1;33m)\u001b[0m\u001b[1;33m\u001b[0m\u001b[1;33m\u001b[0m\u001b[0m\n\u001b[0m",
      "\u001b[1;32m<ipython-input-37-7b4ca0a7a5d2>\u001b[0m in \u001b[0;36mcalculator\u001b[1;34m()\u001b[0m\n\u001b[0;32m     20\u001b[0m         \u001b[1;32melse\u001b[0m\u001b[1;33m:\u001b[0m\u001b[1;33m\u001b[0m\u001b[1;33m\u001b[0m\u001b[0m\n\u001b[0;32m     21\u001b[0m             \u001b[0mcalc_continue\u001b[0m \u001b[1;33m=\u001b[0m \u001b[1;32mFalse\u001b[0m\u001b[1;33m\u001b[0m\u001b[1;33m\u001b[0m\u001b[0m\n\u001b[1;32m---> 22\u001b[1;33m             \u001b[0mcalculator\u001b[0m\u001b[1;33m(\u001b[0m\u001b[1;33m)\u001b[0m \u001b[1;31m#recursion\u001b[0m\u001b[1;33m\u001b[0m\u001b[1;33m\u001b[0m\u001b[0m\n\u001b[0m",
      "\u001b[1;32m<ipython-input-37-7b4ca0a7a5d2>\u001b[0m in \u001b[0;36mcalculator\u001b[1;34m()\u001b[0m\n\u001b[0;32m      4\u001b[0m     \u001b[1;32mwhile\u001b[0m \u001b[0mcalc_continue\u001b[0m \u001b[1;32mis\u001b[0m \u001b[1;32mTrue\u001b[0m\u001b[1;33m:\u001b[0m\u001b[1;33m\u001b[0m\u001b[1;33m\u001b[0m\u001b[0m\n\u001b[0;32m      5\u001b[0m \u001b[1;33m\u001b[0m\u001b[0m\n\u001b[1;32m----> 6\u001b[1;33m         \u001b[0mnum2\u001b[0m \u001b[1;33m=\u001b[0m \u001b[0mfloat\u001b[0m\u001b[1;33m(\u001b[0m\u001b[0minput\u001b[0m\u001b[1;33m(\u001b[0m\u001b[1;34m\"What is the next number: \"\u001b[0m\u001b[1;33m)\u001b[0m\u001b[1;33m)\u001b[0m\u001b[1;33m\u001b[0m\u001b[1;33m\u001b[0m\u001b[0m\n\u001b[0m\u001b[0;32m      7\u001b[0m \u001b[1;33m\u001b[0m\u001b[0m\n\u001b[0;32m      8\u001b[0m         \u001b[1;32mfor\u001b[0m \u001b[0moperator\u001b[0m \u001b[1;32min\u001b[0m \u001b[0moperations\u001b[0m\u001b[1;33m:\u001b[0m \u001b[1;31m#with .items() you can get complete dictionary\u001b[0m\u001b[1;33m\u001b[0m\u001b[1;33m\u001b[0m\u001b[0m\n",
      "\u001b[1;31mValueError\u001b[0m: could not convert string to float: "
     ]
    }
   ],
   "source": [
    "calculator()"
   ]
  },
  {
   "cell_type": "markdown",
   "id": "ac0319d6",
   "metadata": {},
   "source": [
    "## Try and Execept"
   ]
  },
  {
   "cell_type": "code",
   "execution_count": 39,
   "id": "f9493174",
   "metadata": {},
   "outputs": [],
   "source": [
    "def input_difficulty(msg=''):\n",
    "    \"\"\"This function ensures execution of code even if player chooses invalid difficulty\"\"\"\n",
    "    while(True):\n",
    "        try: \n",
    "            difficulty=int(input(msg))\n",
    "            if difficulty == 1 or difficulty == 2:\n",
    "                break # was able to convert to 1 or 2 integers\n",
    "            else: \n",
    "                print(\"Difficulty level must be 1 or 2\")\n",
    "        except:\n",
    "            print(\"Difficulty level must be 1 or 2\")\n",
    "            pass # it will repeat the loop\n",
    "    return (difficulty)"
   ]
  },
  {
   "cell_type": "code",
   "execution_count": 40,
   "id": "45674898",
   "metadata": {},
   "outputs": [
    {
     "name": "stdout",
     "output_type": "stream",
     "text": [
      "4\n",
      "Difficulty level must be 1 or 2\n",
      "s\n",
      "Difficulty level must be 1 or 2\n",
      "2\n"
     ]
    },
    {
     "data": {
      "text/plain": [
       "2"
      ]
     },
     "execution_count": 40,
     "metadata": {},
     "output_type": "execute_result"
    }
   ],
   "source": [
    "input_difficulty()"
   ]
  },
  {
   "cell_type": "markdown",
   "id": "f2633702",
   "metadata": {},
   "source": [
    "## The Higher Lower Game\n",
    "\n",
    "_http://www.higherlowergame.com/_"
   ]
  },
  {
   "cell_type": "code",
   "execution_count": null,
   "id": "eada3128",
   "metadata": {},
   "outputs": [],
   "source": [
    "import random as rd\n",
    "\n",
    "data = [\n",
    "    {\n",
    "        'name': 'Instagram',\n",
    "        'follower_count': 346,\n",
    "        'description': 'Social media platform',\n",
    "        'country': 'United States'\n",
    "    },\n",
    "    {\n",
    "        'name': 'Cristiano Ronaldo',\n",
    "        'follower_count': 215,\n",
    "        'description': 'Footballer',\n",
    "        'country': 'Portugal'\n",
    "    },\n",
    "    {\n",
    "        'name': 'Ariana Grande',\n",
    "        'follower_count': 183,\n",
    "        'description': 'Musician and actress',\n",
    "        'country': 'United States'\n",
    "    },\n",
    "    {\n",
    "        'name': 'Dwayne Johnson',\n",
    "        'follower_count': 181,\n",
    "        'description': 'Actor and professional wrestler',\n",
    "        'country': 'United States'\n",
    "    },\n",
    "    {\n",
    "        'name': 'Selena Gomez',\n",
    "        'follower_count': 174,\n",
    "        'description': 'Musician and actress',\n",
    "        'country': 'United States'\n",
    "    },\n",
    "    {\n",
    "        'name': 'Kylie Jenner',\n",
    "        'follower_count': 172,\n",
    "        'description': 'Reality TV personality and businesswoman and Self-Made Billionaire',\n",
    "        'country': 'United States'\n",
    "    },\n",
    "    {\n",
    "        'name': 'Kim Kardashian',\n",
    "        'follower_count': 167,\n",
    "        'description': 'Reality TV personality and businesswoman',\n",
    "        'country': 'United States'\n",
    "    },\n",
    "    {\n",
    "        'name': 'Lionel Messi',\n",
    "        'follower_count': 149,\n",
    "        'description': 'Footballer',\n",
    "        'country': 'Argentina'\n",
    "    },\n",
    "    {\n",
    "        'name': 'Beyoncé',\n",
    "        'follower_count': 145,\n",
    "        'description': 'Musician',\n",
    "        'country': 'United States'\n",
    "    },\n",
    "    {\n",
    "        'name': 'Neymar',\n",
    "        'follower_count': 138,\n",
    "        'description': 'Footballer',\n",
    "        'country': 'Brasil'\n",
    "    },\n",
    "    {\n",
    "        'name': 'National Geographic',\n",
    "        'follower_count': 135,\n",
    "        'description': 'Magazine',\n",
    "        'country': 'United States'\n",
    "    },\n",
    "    {\n",
    "        'name': 'Justin Bieber',\n",
    "        'follower_count': 133,\n",
    "        'description': 'Musician',\n",
    "        'country': 'Canada'\n",
    "    },\n",
    "    {\n",
    "        'name': 'Taylor Swift',\n",
    "        'follower_count': 131,\n",
    "        'description': 'Musician',\n",
    "        'country': 'United States'\n",
    "    },\n",
    "    {\n",
    "        'name': 'Kendall Jenner',\n",
    "        'follower_count': 127,\n",
    "        'description': 'Reality TV personality and Model',\n",
    "        'country': 'United States'\n",
    "    },\n",
    "    {\n",
    "        'name': 'Jennifer Lopez',\n",
    "        'follower_count': 119,\n",
    "        'description': 'Musician and actress',\n",
    "        'country': 'United States'\n",
    "    },\n",
    "    {\n",
    "        'name': 'Nicki Minaj',\n",
    "        'follower_count': 113,\n",
    "        'description': 'Musician',\n",
    "        'country': 'Trinidad and Tobago'\n",
    "    },\n",
    "    {\n",
    "        'name': 'Nike',\n",
    "        'follower_count': 109,\n",
    "        'description': 'Sportswear multinational',\n",
    "        'country': 'United States'\n",
    "    },\n",
    "    {\n",
    "        'name': 'Khloé Kardashian',\n",
    "        'follower_count': 108,\n",
    "        'description': 'Reality TV personality and businesswoman',\n",
    "        'country': 'United States'\n",
    "    },\n",
    "    {\n",
    "        'name': 'Miley Cyrus',\n",
    "        'follower_count': 107,\n",
    "        'description': 'Musician and actress',\n",
    "        'country': 'United States'\n",
    "    },\n",
    "    {\n",
    "        'name': 'Katy Perry',\n",
    "        'follower_count': 94,\n",
    "        'description': 'Musician',\n",
    "        'country': 'United States'\n",
    "    },\n",
    "    {\n",
    "        'name': 'Kourtney Kardashian',\n",
    "        'follower_count': 90,\n",
    "        'description': 'Reality TV personality',\n",
    "        'country': 'United States'\n",
    "    },\n",
    "    {\n",
    "        'name': 'Kevin Hart',\n",
    "        'follower_count': 89,\n",
    "        'description': 'Comedian and actor',\n",
    "        'country': 'United States'\n",
    "    },\n",
    "    {\n",
    "        'name': 'Ellen DeGeneres',\n",
    "        'follower_count': 87,\n",
    "        'description': 'Comedian',\n",
    "        'country': 'United States'\n",
    "    },\n",
    "    {\n",
    "        'name': 'Real Madrid CF',\n",
    "        'follower_count': 86,\n",
    "        'description': 'Football club',\n",
    "        'country': 'Spain'\n",
    "    },\n",
    "    {\n",
    "        'name': 'FC Barcelona',\n",
    "        'follower_count': 85,\n",
    "        'description': 'Football club',\n",
    "        'country': 'Spain'\n",
    "    },\n",
    "    {\n",
    "        'name': 'Rihanna',\n",
    "        'follower_count': 81,\n",
    "        'description': 'Musician and businesswoman',\n",
    "        'country': 'Barbados'\n",
    "    },\n",
    "    {\n",
    "        'name': 'Demi Lovato',\n",
    "        'follower_count': 80,\n",
    "        'description': 'Musician and actress',\n",
    "        'country': 'United States'\n",
    "    },\n",
    "    {\n",
    "        'name': \"Victoria's Secret\",\n",
    "        'follower_count': 69,\n",
    "        'description': 'Lingerie brand',\n",
    "        'country': 'United States'\n",
    "    },\n",
    "    {\n",
    "        'name': 'Zendaya',\n",
    "        'follower_count': 68,\n",
    "        'description': 'Actress and musician',\n",
    "        'country': 'United States'\n",
    "    },\n",
    "    {\n",
    "        'name': 'Shakira',\n",
    "        'follower_count': 66,\n",
    "        'description': 'Musician',\n",
    "        'country': 'Colombia'\n",
    "    },\n",
    "    {\n",
    "        'name': 'Drake',\n",
    "        'follower_count': 65,\n",
    "        'description': 'Musician',\n",
    "        'country': 'Canada'\n",
    "    },\n",
    "    {\n",
    "        'name': 'Chris Brown',\n",
    "        'follower_count': 64,\n",
    "        'description': 'Musician',\n",
    "        'country': 'United States'\n",
    "    },\n",
    "    {\n",
    "        'name': 'LeBron James',\n",
    "        'follower_count': 63,\n",
    "        'description': 'Basketball player',\n",
    "        'country': 'United States'\n",
    "    },\n",
    "    {\n",
    "        'name': 'Vin Diesel',\n",
    "        'follower_count': 62,\n",
    "        'description': 'Actor',\n",
    "        'country': 'United States'\n",
    "    },\n",
    "    {\n",
    "        'name': 'Cardi B',\n",
    "        'follower_count': 67,\n",
    "        'description': 'Musician',\n",
    "        'country': 'United States'\n",
    "    },\n",
    "    {\n",
    "        'name': 'David Beckham',\n",
    "        'follower_count': 82,\n",
    "        'description': 'Footballer',\n",
    "        'country': 'United Kingdom'\n",
    "    },\n",
    "    {\n",
    "        'name': 'Billie Eilish',\n",
    "        'follower_count': 61,\n",
    "        'description': 'Musician',\n",
    "        'country': 'United States'\n",
    "    },\n",
    "    {\n",
    "        'name': 'Justin Timberlake',\n",
    "        'follower_count': 59,\n",
    "        'description': 'Musician and actor',\n",
    "        'country': 'United States'\n",
    "    },\n",
    "    {\n",
    "        'name': 'UEFA Champions League',\n",
    "        'follower_count': 58,\n",
    "        'description': 'Club football competition',\n",
    "        'country': 'Europe'\n",
    "    },\n",
    "    {\n",
    "        'name': 'NASA',\n",
    "        'follower_count': 56,\n",
    "        'description': 'Space agency',\n",
    "        'country': 'United States'\n",
    "    },\n",
    "    {\n",
    "        'name': 'Emma Watson',\n",
    "        'follower_count': 56,\n",
    "        'description': 'Actress',\n",
    "        'country': 'United Kingdom'\n",
    "    },\n",
    "    {\n",
    "        'name': 'Shawn Mendes',\n",
    "        'follower_count': 57,\n",
    "        'description': 'Musician',\n",
    "        'country': 'Canada'\n",
    "    },\n",
    "    {\n",
    "        'name': 'Virat Kohli',\n",
    "        'follower_count': 55,\n",
    "        'description': 'Cricketer',\n",
    "        'country': 'India'\n",
    "    },\n",
    "    {\n",
    "        'name': 'Gigi Hadid',\n",
    "        'follower_count': 54,\n",
    "        'description': 'Model',\n",
    "        'country': 'United States'\n",
    "    },\n",
    "    {\n",
    "        'name': 'Priyanka Chopra Jonas',\n",
    "        'follower_count': 53,\n",
    "        'description': 'Actress and musician',\n",
    "        'country': 'India'\n",
    "    },\n",
    "    {\n",
    "        'name': '9GAG',\n",
    "        'follower_count': 52,\n",
    "        'description': 'Social media platform',\n",
    "        'country': 'China'\n",
    "    },\n",
    "    {\n",
    "        'name': 'Ronaldinho',\n",
    "        'follower_count': 51,\n",
    "        'description': 'Footballer',\n",
    "        'country': 'Brasil'\n",
    "    },\n",
    "    {\n",
    "        'name': 'Maluma',\n",
    "        'follower_count': 50,\n",
    "        'description': 'Musician',\n",
    "        'country': 'Colombia'\n",
    "    },\n",
    "    {\n",
    "        'name': 'Camila Cabello',\n",
    "        'follower_count': 49,\n",
    "        'description': 'Musician',\n",
    "        'country': 'Cuba'\n",
    "    },\n",
    "    {\n",
    "        'name': 'NBA',\n",
    "        'follower_count': 47,\n",
    "        'description': 'Club Basketball Competition',\n",
    "        'country': 'United States'\n",
    "    }\n",
    "]"
   ]
  },
  {
   "cell_type": "markdown",
   "id": "2aa163e7",
   "metadata": {},
   "source": [
    "## What would you like to see next"
   ]
  },
  {
   "cell_type": "code",
   "execution_count": null,
   "id": "589c2628",
   "metadata": {},
   "outputs": [],
   "source": [
    "#github"
   ]
  },
  {
   "cell_type": "code",
   "execution_count": null,
   "id": "3542bf2f",
   "metadata": {},
   "outputs": [],
   "source": []
  },
  {
   "cell_type": "code",
   "execution_count": null,
   "id": "9da803c2",
   "metadata": {},
   "outputs": [],
   "source": []
  },
  {
   "cell_type": "code",
   "execution_count": null,
   "id": "844dce34",
   "metadata": {},
   "outputs": [],
   "source": []
  },
  {
   "cell_type": "code",
   "execution_count": null,
   "id": "a4b3642f",
   "metadata": {},
   "outputs": [],
   "source": []
  },
  {
   "cell_type": "code",
   "execution_count": null,
   "id": "9f07a23e",
   "metadata": {},
   "outputs": [],
   "source": []
  },
  {
   "cell_type": "code",
   "execution_count": null,
   "id": "078f6937",
   "metadata": {},
   "outputs": [],
   "source": []
  },
  {
   "cell_type": "code",
   "execution_count": null,
   "id": "330b680e",
   "metadata": {},
   "outputs": [],
   "source": []
  },
  {
   "cell_type": "code",
   "execution_count": null,
   "id": "70230c5e",
   "metadata": {},
   "outputs": [],
   "source": []
  },
  {
   "cell_type": "code",
   "execution_count": null,
   "id": "302acd94",
   "metadata": {},
   "outputs": [],
   "source": []
  },
  {
   "cell_type": "code",
   "execution_count": null,
   "id": "e0859a85",
   "metadata": {},
   "outputs": [],
   "source": []
  },
  {
   "cell_type": "code",
   "execution_count": null,
   "id": "da731df8",
   "metadata": {},
   "outputs": [],
   "source": []
  },
  {
   "cell_type": "code",
   "execution_count": null,
   "id": "daa543aa",
   "metadata": {},
   "outputs": [],
   "source": []
  },
  {
   "cell_type": "code",
   "execution_count": null,
   "id": "11b54f72",
   "metadata": {},
   "outputs": [],
   "source": []
  },
  {
   "cell_type": "code",
   "execution_count": null,
   "id": "5123019e",
   "metadata": {},
   "outputs": [],
   "source": []
  },
  {
   "cell_type": "code",
   "execution_count": null,
   "id": "08b6b70d",
   "metadata": {},
   "outputs": [],
   "source": []
  },
  {
   "cell_type": "code",
   "execution_count": null,
   "id": "f7c877b2",
   "metadata": {},
   "outputs": [],
   "source": []
  },
  {
   "cell_type": "code",
   "execution_count": null,
   "id": "5cd08736",
   "metadata": {},
   "outputs": [],
   "source": []
  },
  {
   "cell_type": "code",
   "execution_count": null,
   "id": "f702ca1e",
   "metadata": {},
   "outputs": [],
   "source": [
    "vip1_name = rd.choice(data)[\"name\"]\n",
    "vip1_followers = rd.choice(data)[\"follower_count\"]\n",
    "\n",
    "vip2_name = rd.choice(data)[\"name\"]\n",
    "vip2_followers = rd.choice(data)[\"follower_count\"]\n",
    "\n",
    "game_resume = True\n",
    "total_score = 0\n",
    "\n",
    "\n",
    "def player_choice():\n",
    "    \"\"\"\"\"\"\n",
    "    player_guess = int(input(f\"Who has more followers? Type 1 for {vip1_name} or 2 for {vip2_name}: \"))\n",
    "    return player_guess\n",
    "\n",
    "\n",
    "def vip_follower_ranking():\n",
    "    \"\"\"a function that determines which vip has more followers\"\"\"\n",
    "    if vip1_followers > vip2_followers:\n",
    "        return 1\n",
    "    elif vip1_followers < vip2_followers:\n",
    "        return 2\n",
    "    else:\n",
    "        return 0\n",
    "    \n",
    "\n",
    "def game_decision(player_follower_ranking,true_follower_ranking):\n",
    "    if true_follower_ranking == 0:\n",
    "        print(\"Both got the same number of followers lol.\")\n",
    "        return 0\n",
    "    elif player_follower_ranking == 1 and true_follower_ranking == 1:\n",
    "        print(\"You were right all along biatch\")\n",
    "        return 1\n",
    "    elif player_follower_ranking == 2 and true_follower_ranking == 2:\n",
    "        print(\"You were right all along you little devil\")\n",
    "        return 1\n",
    "    else:\n",
    "        print(\"You suck bruh\")\n",
    "        return 0\n",
    "\n",
    "\n",
    "\n",
    "while game_resume == True:\n",
    "    total_score += game_decision(player_choice(),vip_follower_ranking())\n",
    "     \n",
    "    if vip1_followers > vip2_followers:\n",
    "        vip2_name = rd.choice(data)[\"name\"]\n",
    "        vip2_followers = rd.choice(data)[\"follower_count\"]\n",
    "    elif vip1_followers < vip2_followers:\n",
    "        vip1_name = vip2_name\n",
    "        vip1_followers = vip2_followers\n",
    "        vip2_name = rd.choice(data)[\"name\"]\n",
    "        vip2_followers = rd.choice(data)[\"follower_count\"]\n",
    "    else:\n",
    "        vip1_name = rd.choice(data)[\"name\"]\n",
    "        vip1_followers = rd.choice(data)[\"follower_count\"]        \n",
    "        vip2_name = rd.choice(data)[\"name\"]\n",
    "        vip2_followers = rd.choice(data)[\"follower_count\"]\n",
    "\n",
    "    if input(\"Would you like to play again? Type 'y' for yes or 'n' for no: \")==\"y\":\n",
    "        game_resume=True\n",
    "    else:\n",
    "        print(\"Thanks for playing you noob!\")\n",
    "        print(f\"Your total score is {total_score}.\")\n",
    "        game_resume=False"
   ]
  },
  {
   "cell_type": "code",
   "execution_count": null,
   "id": "5d78098c",
   "metadata": {},
   "outputs": [],
   "source": []
  }
 ],
 "metadata": {
  "kernelspec": {
   "display_name": "Python 3",
   "language": "python",
   "name": "python3"
  },
  "language_info": {
   "codemirror_mode": {
    "name": "ipython",
    "version": 3
   },
   "file_extension": ".py",
   "mimetype": "text/x-python",
   "name": "python",
   "nbconvert_exporter": "python",
   "pygments_lexer": "ipython3",
   "version": "3.7.10"
  }
 },
 "nbformat": 4,
 "nbformat_minor": 5
}
